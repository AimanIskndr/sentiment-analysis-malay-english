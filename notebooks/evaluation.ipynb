{
 "cells": [
  {
   "cell_type": "markdown",
   "metadata": {},
   "source": [
    "# Model Evaluation\n",
    "\n",
    "In this notebook, we will evaluate the performance of different sentiment analysis models trained on Malay and English tweets. We will compare their effectiveness using various metrics, including accuracy, precision, recall, and F1-score, as well as visualize the results using confusion matrices."
   ]
  },
  {
   "cell_type": "code",
   "execution_count": 1,
   "metadata": {},
   "outputs": [],
   "source": [
    "# Import necessary libraries\n",
    "import pandas as pd\n",
    "import numpy as np\n",
    "import matplotlib.pyplot as plt\n",
    "import seaborn as sns\n",
    "from sklearn.metrics import confusion_matrix, classification_report\n",
    "from src.utils.data_split import load_data\n",
    "from src.evaluation.metrics import calculate_metrics\n",
    "from src.evaluation.confusion_matrix import plot_confusion_matrix\n",
    "from src.models.naive_bayes import NaiveBayesModel\n",
    "from src.models.embedding_models import EmbeddingModel\n",
    "from src.models.traditional_models import TraditionalModel\n"
   ]
  },
  {
   "cell_type": "code",
   "execution_count": 2,
   "metadata": {},
   "outputs": [],
   "source": [
    "# Load the dataset\n",
    "data = load_data('data/splits/train_test_split.csv')\n",
    "X_train, X_test, y_train, y_test = data['X_train'], data['X_test'], data['y_train'], data['y_test']\n"
   ]
  },
  {
   "cell_type": "code",
   "execution_count": 3,
   "metadata": {},
   "outputs": [],
   "source": [
    "# Initialize models\n",
    "naive_bayes_model = NaiveBayesModel()\n",
    "embedding_model = EmbeddingModel()\n",
    "traditional_model = TraditionalModel()\n"
   ]
  },
  {
   "cell_type": "code",
   "execution_count": 4,
   "metadata": {},
   "outputs": [],
   "source": [
    "# Train models\n",
    "naive_bayes_model.train(X_train, y_train)\n",
    "embedding_model.train(X_train, y_train)\n",
    "traditional_model.train(X_train, y_train)\n"
   ]
  },
  {
   "cell_type": "code",
   "execution_count": 5,
   "metadata": {},
   "outputs": [],
   "source": [
    "# Make predictions\n",
    "nb_predictions = naive_bayes_model.predict(X_test)\n",
    "embedding_predictions = embedding_model.predict(X_test)\n",
    "traditional_predictions = traditional_model.predict(X_test)\n"
   ]
  },
  {
   "cell_type": "code",
   "execution_count": 6,
   "metadata": {},
   "outputs": [],
   "source": [
    "# Evaluate models\n",
    "nb_metrics = calculate_metrics(y_test, nb_predictions)\n",
    "embedding_metrics = calculate_metrics(y_test, embedding_predictions)\n",
    "traditional_metrics = calculate_metrics(y_test, traditional_predictions)\n"
   ]
  },
  {
   "cell_type": "code",
   "execution_count": 7,
   "metadata": {},
   "outputs": [],
   "source": [
    "# Display classification reports\n",
    "print(\"Naive Bayes Classification Report:\")\n",
    "print(classification_report(y_test, nb_predictions))\n",
    "\n",
    "print(\"Embedding Model Classification Report:\")\n",
    "print(classification_report(y_test, embedding_predictions))\n",
    "\n",
    "print(\"Traditional Model Classification Report:\")\n",
    "print(classification_report(y_test, traditional_predictions))\n"
   ]
  },
  {
   "cell_type": "code",
   "execution_count": 8,
   "metadata": {},
   "outputs": [],
   "source": [
    "# Plot confusion matrices\n",
    "plt.figure(figsize=(15, 5))\n",
    "\n",
    "plt.subplot(1, 3, 1)\n",
    "plot_confusion_matrix(y_test, nb_predictions, title='Naive Bayes Confusion Matrix')\n",
    "\n",
    "plt.subplot(1, 3, 2)\n",
    "plot_confusion_matrix(y_test, embedding_predictions, title='Embedding Model Confusion Matrix')\n",
    "\n",
    "plt.subplot(1, 3, 3)\n",
    "plot_confusion_matrix(y_test, traditional_predictions, title='Traditional Model Confusion Matrix')\n",
    "\n",
    "plt.tight_layout()\n",
    "plt.show()"
   ]
  }
 ],
 "metadata": {
  "kernelspec": {
   "display_name": "Python 3",
   "language": "python",
   "name": "python3"
  },
  "language_info": {
   "codemirror_mode": {
    "name": "ipython",
    "version": 3
   },
   "file_extension": ".py",
   "mimetype": "text/x-python",
   "name": "python",
   "nbconvert_exporter": "python",
   "pygments_lexer": "ipython3",
   "version": "3.8.5"
  }
 },
 "nbformat": 4,
 "nbformat_minor": 4
}