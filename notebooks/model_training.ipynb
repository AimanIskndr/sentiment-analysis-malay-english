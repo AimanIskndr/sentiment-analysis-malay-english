{
 "cells": [
  {
   "cell_type": "markdown",
   "metadata": {},
   "source": [
    "# Model Training for Sentiment Analysis\n",
    "\n",
    "This notebook is dedicated to training various sentiment analysis models on the cleaned dataset of Malay and English tweets. We will implement the Naive Bayes algorithm, embedding-based models, and traditional sentiment analysis algorithms. The effectiveness of each model will be compared using confusion matrices and other performance metrics."
   ]
  },
  {
   "cell_type": "code",
   "execution_count": 1,
   "metadata": {},
   "outputs": [],
   "source": [
    "# Import necessary libraries\n",
    "import pandas as pd\n",
    "from sklearn.model_selection import train_test_split\n",
    "from src.data_preprocessing.data_cleaner import clean_data\n",
    "from src.models.naive_bayes import train_naive_bayes\n",
    "from src.models.embedding_models import train_embedding_model\n",
    "from src.models.traditional_models import train_traditional_model\n",
    "from src.evaluation.metrics import calculate_metrics\n",
    "from src.evaluation.confusion_matrix import plot_confusion_matrix\n",
    "\n",
    "# Load the dataset\n",
    "data_path = '../data/raw/semisupervised-bert-xlnet.csv'\n",
    "df = pd.read_csv(data_path)\n",
    "\n",
    "# Clean the dataset\n",
    "df_cleaned = clean_data(df)\n",
    "\n",
    "# Split the dataset into training and testing sets (80-20 split)\n",
    "X = df_cleaned['text']\n",
    "y = df_cleaned['label']\n",
    "X_train, X_test, y_train, y_test = train_test_split(X, y, test_size=0.2, random_state=42)\n",
    "\n",
    "# Train Naive Bayes model\n",
    "nb_model = train_naive_bayes(X_train, y_train)\n",
    "\n",
    "# Train embedding-based model\n",
    "embedding_model = train_embedding_model(X_train, y_train)\n",
    "\n",
    "# Train traditional model\n",
    "traditional_model = train_traditional_model(X_train, y_train)\n",
    "\n",
    "# Evaluate models\n",
    "nb_predictions = nb_model.predict(X_test)\n",
    "embedding_predictions = embedding_model.predict(X_test)\n",
    "traditional_predictions = traditional_model.predict(X_test)\n",
    "\n",
    "# Calculate metrics\n",
    "nb_metrics = calculate_metrics(y_test, nb_predictions)\n",
    "embedding_metrics = calculate_metrics(y_test, embedding_predictions)\n",
    "traditional_metrics = calculate_metrics(y_test, traditional_predictions)\n",
    "\n",
    "# Plot confusion matrices\n",
    "plot_confusion_matrix(y_test, nb_predictions, title='Naive Bayes Confusion Matrix')\n",
    "plot_confusion_matrix(y_test, embedding_predictions, title='Embedding Model Confusion Matrix')\n",
    "plot_confusion_matrix(y_test, traditional_predictions, title='Traditional Model Confusion Matrix')\n",
    "\n",
    "# Display metrics\n",
    "print('Naive Bayes Metrics:', nb_metrics)\n",
    "print('Embedding Model Metrics:', embedding_metrics)\n",
    "print('Traditional Model Metrics:', traditional_metrics)"
   ]
  }
 ],
 "metadata": {
  "kernelspec": {
   "display_name": "Python 3",
   "language": "python",
   "name": "python3"
  },
  "language_info": {
   "codemirror_mode": {
    "name": "ipython",
    "version": 3
   },
   "file_extension": ".py",
   "mimetype": "text/x-python",
   "name": "python",
   "nbconvert_exporter": "python",
   "pygments_lexer": "ipython3",
   "version": "3.8.5"
  }
 },
 "nbformat": 4,
 "nbformat_minor": 4
}