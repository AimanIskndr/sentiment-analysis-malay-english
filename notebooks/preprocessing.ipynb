{
 "cells": [
  {
   "cell_type": "markdown",
   "metadata": {},
   "source": [
    "# Data Preprocessing for Sentiment Analysis\n",
    "\n",
    "This notebook focuses on the data cleaning and preprocessing steps for the sentiment analysis of Malay and English tweets. The goal is to prepare the dataset for further analysis and model training."
   ]
  },
  {
   "cell_type": "code",
   "execution_count": 1,
   "metadata": {
    "id": "data_cleaning"
   },
   "outputs": [
    {
     "data": {
      "text/html": [
       "<div>\n",
       "<style scoped>\n",
       "    .dataframe tbody tr th:only-of-type {\n",
       "        vertical-align: middle;\n",
       "    }\n",
       "\n",
       "    .dataframe tbody tr th {\n",
       "        vertical-align: top;\n",
       "    }\n",
       "\n",
       "    .dataframe thead th {\n",
       "        text-align: right;\n",
       "    }\n",
       "</style>\n",
       "<table border=\"1\" class=\"dataframe\">\n",
       "  <thead>\n",
       "    <tr style=\"text-align: right;\">\n",
       "      <th></th>\n",
       "      <th>text</th>\n",
       "      <th>label</th>\n",
       "      <th>prob</th>\n",
       "    </tr>\n",
       "  </thead>\n",
       "  <tbody>\n",
       "    <tr>\n",
       "      <th>0</th>\n",
       "      <td>@LionelModric10 Sabah sabah yorma donkey</td>\n",
       "      <td>Neutral</td>\n",
       "      <td>0.999414</td>\n",
       "    </tr>\n",
       "    <tr>\n",
       "      <th>1</th>\n",
       "      <td>Continue to reach out . . SEKUT in aja laah Na...</td>\n",
       "      <td>Neutral</td>\n",
       "      <td>0.994295</td>\n",
       "    </tr>\n",
       "    <tr>\n",
       "      <th>2</th>\n",
       "      <td>ada suprise untuk #danishnaufal_14 tq pada pem...</td>\n",
       "      <td>Positive</td>\n",
       "      <td>0.999538</td>\n",
       "    </tr>\n",
       "    <tr>\n",
       "      <th>3</th>\n",
       "      <td>aku kerja keras gila jimat jimat nak beli apa ...</td>\n",
       "      <td>Positive</td>\n",
       "      <td>0.999405</td>\n",
       "    </tr>\n",
       "    <tr>\n",
       "      <th>4</th>\n",
       "      <td>@farhanalv ajak makan ah ke penang bistro wkwkw</td>\n",
       "      <td>Neutral</td>\n",
       "      <td>0.999462</td>\n",
       "    </tr>\n",
       "  </tbody>\n",
       "</table>\n",
       "</div>"
      ],
      "text/plain": [
       "                                                text     label      prob\n",
       "0           @LionelModric10 Sabah sabah yorma donkey   Neutral  0.999414\n",
       "1  Continue to reach out . . SEKUT in aja laah Na...   Neutral  0.994295\n",
       "2  ada suprise untuk #danishnaufal_14 tq pada pem...  Positive  0.999538\n",
       "3  aku kerja keras gila jimat jimat nak beli apa ...  Positive  0.999405\n",
       "4    @farhanalv ajak makan ah ke penang bistro wkwkw   Neutral  0.999462"
      ]
     },
     "execution_count": 1,
     "metadata": {},
     "output_type": "execute_result"
    }
   ],
   "source": [
    "import pandas as pd\n",
    "import re\n",
    "\n",
    "# Load the dataset\n",
    "data_path = '../data/raw/semisupervised-bert-xlnet.csv'\n",
    "df = pd.read_csv(data_path)\n",
    "\n",
    "# Display the first few rows of the dataset\n",
    "df.head()"
   ]
  },
  {
   "cell_type": "code",
   "execution_count": 2,
   "metadata": {
    "id": "cleaning_functions"
   },
   "outputs": [
    {
     "data": {
      "text/html": [
       "<div>\n",
       "<style scoped>\n",
       "    .dataframe tbody tr th:only-of-type {\n",
       "        vertical-align: middle;\n",
       "    }\n",
       "\n",
       "    .dataframe tbody tr th {\n",
       "        vertical-align: top;\n",
       "    }\n",
       "\n",
       "    .dataframe thead th {\n",
       "        text-align: right;\n",
       "    }\n",
       "</style>\n",
       "<table border=\"1\" class=\"dataframe\">\n",
       "  <thead>\n",
       "    <tr style=\"text-align: right;\">\n",
       "      <th></th>\n",
       "      <th>text</th>\n",
       "      <th>cleaned_text</th>\n",
       "    </tr>\n",
       "  </thead>\n",
       "  <tbody>\n",
       "    <tr>\n",
       "      <th>0</th>\n",
       "      <td>@LionelModric10 Sabah sabah yorma donkey</td>\n",
       "      <td>sabah sabah yorma donkey</td>\n",
       "    </tr>\n",
       "    <tr>\n",
       "      <th>1</th>\n",
       "      <td>Continue to reach out . . SEKUT in aja laah Na...</td>\n",
       "      <td>continue to reach out   sekut in aja laah nant...</td>\n",
       "    </tr>\n",
       "    <tr>\n",
       "      <th>2</th>\n",
       "      <td>ada suprise untuk #danishnaufal_14 tq pada pem...</td>\n",
       "      <td>ada suprise untuk  tq pada pemperi alhamdulill...</td>\n",
       "    </tr>\n",
       "    <tr>\n",
       "      <th>3</th>\n",
       "      <td>aku kerja keras gila jimat jimat nak beli apa ...</td>\n",
       "      <td>aku kerja keras gila jimat jimat nak beli apa ...</td>\n",
       "    </tr>\n",
       "    <tr>\n",
       "      <th>4</th>\n",
       "      <td>@farhanalv ajak makan ah ke penang bistro wkwkw</td>\n",
       "      <td>ajak makan ah ke penang bistro wkwkw</td>\n",
       "    </tr>\n",
       "  </tbody>\n",
       "</table>\n",
       "</div>"
      ],
      "text/plain": [
       "                                                text  \\\n",
       "0           @LionelModric10 Sabah sabah yorma donkey   \n",
       "1  Continue to reach out . . SEKUT in aja laah Na...   \n",
       "2  ada suprise untuk #danishnaufal_14 tq pada pem...   \n",
       "3  aku kerja keras gila jimat jimat nak beli apa ...   \n",
       "4    @farhanalv ajak makan ah ke penang bistro wkwkw   \n",
       "\n",
       "                                        cleaned_text  \n",
       "0                           sabah sabah yorma donkey  \n",
       "1  continue to reach out   sekut in aja laah nant...  \n",
       "2  ada suprise untuk  tq pada pemperi alhamdulill...  \n",
       "3  aku kerja keras gila jimat jimat nak beli apa ...  \n",
       "4               ajak makan ah ke penang bistro wkwkw  "
      ]
     },
     "execution_count": 2,
     "metadata": {},
     "output_type": "execute_result"
    }
   ],
   "source": [
    "def clean_text(text):\n",
    "    # Remove links\n",
    "    text = re.sub(r'http\\S+|www\\S+', '', text)\n",
    "    # Remove mentions\n",
    "    text = re.sub(r'@\\w+', '', text)\n",
    "    # Remove hashtags\n",
    "    text = re.sub(r'#\\w+', '', text)\n",
    "    # Remove special characters and numbers\n",
    "    text = re.sub(r'[^a-zA-Z\\s]', '', text)\n",
    "    # Convert to lowercase\n",
    "    text = text.lower()\n",
    "    return text\n",
    "\n",
    "# Apply the cleaning function to the text column\n",
    "df['cleaned_text'] = df['text'].apply(clean_text)\n",
    "\n",
    "# Display the cleaned dataset\n",
    "df[['text', 'cleaned_text']].head()"
   ]
  },
  {
   "cell_type": "code",
   "execution_count": 3,
   "metadata": {},
   "outputs": [
    {
     "data": {
      "text/html": [
       "<div>\n",
       "<style scoped>\n",
       "    .dataframe tbody tr th:only-of-type {\n",
       "        vertical-align: middle;\n",
       "    }\n",
       "\n",
       "    .dataframe tbody tr th {\n",
       "        vertical-align: top;\n",
       "    }\n",
       "\n",
       "    .dataframe thead th {\n",
       "        text-align: right;\n",
       "    }\n",
       "</style>\n",
       "<table border=\"1\" class=\"dataframe\">\n",
       "  <thead>\n",
       "    <tr style=\"text-align: right;\">\n",
       "      <th></th>\n",
       "      <th>text</th>\n",
       "      <th>label</th>\n",
       "      <th>prob</th>\n",
       "      <th>cleaned_text</th>\n",
       "    </tr>\n",
       "  </thead>\n",
       "  <tbody>\n",
       "    <tr>\n",
       "      <th>0</th>\n",
       "      <td>@LionelModric10 Sabah sabah yorma donkey</td>\n",
       "      <td>Neutral</td>\n",
       "      <td>0.999414</td>\n",
       "      <td>sabah sabah yorma donkey</td>\n",
       "    </tr>\n",
       "    <tr>\n",
       "      <th>1</th>\n",
       "      <td>Continue to reach out . . SEKUT in aja laah Na...</td>\n",
       "      <td>Neutral</td>\n",
       "      <td>0.994295</td>\n",
       "      <td>continue to reach out   sekut in aja laah nant...</td>\n",
       "    </tr>\n",
       "    <tr>\n",
       "      <th>2</th>\n",
       "      <td>ada suprise untuk #danishnaufal_14 tq pada pem...</td>\n",
       "      <td>Positive</td>\n",
       "      <td>0.999538</td>\n",
       "      <td>ada suprise untuk  tq pada pemperi alhamdulill...</td>\n",
       "    </tr>\n",
       "    <tr>\n",
       "      <th>3</th>\n",
       "      <td>aku kerja keras gila jimat jimat nak beli apa ...</td>\n",
       "      <td>Positive</td>\n",
       "      <td>0.999405</td>\n",
       "      <td>aku kerja keras gila jimat jimat nak beli apa ...</td>\n",
       "    </tr>\n",
       "    <tr>\n",
       "      <th>4</th>\n",
       "      <td>@farhanalv ajak makan ah ke penang bistro wkwkw</td>\n",
       "      <td>Neutral</td>\n",
       "      <td>0.999462</td>\n",
       "      <td>ajak makan ah ke penang bistro wkwkw</td>\n",
       "    </tr>\n",
       "  </tbody>\n",
       "</table>\n",
       "</div>"
      ],
      "text/plain": [
       "                                                text     label      prob  \\\n",
       "0           @LionelModric10 Sabah sabah yorma donkey   Neutral  0.999414   \n",
       "1  Continue to reach out . . SEKUT in aja laah Na...   Neutral  0.994295   \n",
       "2  ada suprise untuk #danishnaufal_14 tq pada pem...  Positive  0.999538   \n",
       "3  aku kerja keras gila jimat jimat nak beli apa ...  Positive  0.999405   \n",
       "4    @farhanalv ajak makan ah ke penang bistro wkwkw   Neutral  0.999462   \n",
       "\n",
       "                                        cleaned_text  \n",
       "0                           sabah sabah yorma donkey  \n",
       "1  continue to reach out   sekut in aja laah nant...  \n",
       "2  ada suprise untuk  tq pada pemperi alhamdulill...  \n",
       "3  aku kerja keras gila jimat jimat nak beli apa ...  \n",
       "4               ajak makan ah ke penang bistro wkwkw  "
      ]
     },
     "execution_count": 3,
     "metadata": {},
     "output_type": "execute_result"
    }
   ],
   "source": [
    "df.head()"
   ]
  },
  {
   "cell_type": "code",
   "execution_count": 6,
   "metadata": {},
   "outputs": [],
   "source": [
    "# Apply the cleaning function to the text column\n",
    "df['cleaned_text'] = df['text'].apply(clean_text)\n",
    "\n",
    "# Replace the 'text' column with the cleaned text\n",
    "df['text'] = df['cleaned_text']\n",
    "\n",
    "# Display the cleaned dataset\n",
    "df[['text', 'cleaned_text']].head()\n",
    "\n",
    "# Drop the 'cleaned_text' column as it's no longer needed\n",
    "df.drop(columns=['cleaned_text'], inplace=True)"
   ]
  },
  {
   "cell_type": "code",
   "execution_count": 7,
   "metadata": {},
   "outputs": [
    {
     "data": {
      "text/html": [
       "<div>\n",
       "<style scoped>\n",
       "    .dataframe tbody tr th:only-of-type {\n",
       "        vertical-align: middle;\n",
       "    }\n",
       "\n",
       "    .dataframe tbody tr th {\n",
       "        vertical-align: top;\n",
       "    }\n",
       "\n",
       "    .dataframe thead th {\n",
       "        text-align: right;\n",
       "    }\n",
       "</style>\n",
       "<table border=\"1\" class=\"dataframe\">\n",
       "  <thead>\n",
       "    <tr style=\"text-align: right;\">\n",
       "      <th></th>\n",
       "      <th>text</th>\n",
       "      <th>label</th>\n",
       "      <th>prob</th>\n",
       "    </tr>\n",
       "  </thead>\n",
       "  <tbody>\n",
       "    <tr>\n",
       "      <th>0</th>\n",
       "      <td>sabah sabah yorma donkey</td>\n",
       "      <td>Neutral</td>\n",
       "      <td>0.999414</td>\n",
       "    </tr>\n",
       "    <tr>\n",
       "      <th>1</th>\n",
       "      <td>continue to reach out   sekut in aja laah nant...</td>\n",
       "      <td>Neutral</td>\n",
       "      <td>0.994295</td>\n",
       "    </tr>\n",
       "    <tr>\n",
       "      <th>2</th>\n",
       "      <td>ada suprise untuk  tq pada pemperi alhamdulill...</td>\n",
       "      <td>Positive</td>\n",
       "      <td>0.999538</td>\n",
       "    </tr>\n",
       "    <tr>\n",
       "      <th>3</th>\n",
       "      <td>aku kerja keras gila jimat jimat nak beli apa ...</td>\n",
       "      <td>Positive</td>\n",
       "      <td>0.999405</td>\n",
       "    </tr>\n",
       "    <tr>\n",
       "      <th>4</th>\n",
       "      <td>ajak makan ah ke penang bistro wkwkw</td>\n",
       "      <td>Neutral</td>\n",
       "      <td>0.999462</td>\n",
       "    </tr>\n",
       "  </tbody>\n",
       "</table>\n",
       "</div>"
      ],
      "text/plain": [
       "                                                text     label      prob\n",
       "0                           sabah sabah yorma donkey   Neutral  0.999414\n",
       "1  continue to reach out   sekut in aja laah nant...   Neutral  0.994295\n",
       "2  ada suprise untuk  tq pada pemperi alhamdulill...  Positive  0.999538\n",
       "3  aku kerja keras gila jimat jimat nak beli apa ...  Positive  0.999405\n",
       "4               ajak makan ah ke penang bistro wkwkw   Neutral  0.999462"
      ]
     },
     "execution_count": 7,
     "metadata": {},
     "output_type": "execute_result"
    }
   ],
   "source": [
    "df.head()"
   ]
  },
  {
   "cell_type": "code",
   "execution_count": 9,
   "metadata": {
    "id": "save_cleaned_data"
   },
   "outputs": [
    {
     "name": "stdout",
     "output_type": "stream",
     "text": [
      "Cleaned data saved to: ../data/processed/cleaned_data.csv\n"
     ]
    }
   ],
   "source": [
    "# Save the cleaned dataset to the processed directory\n",
    "processed_data_path = '../data/processed/cleaned_data.csv'\n",
    "df.to_csv(processed_data_path, index=False)\n",
    "print('Cleaned data saved to:', processed_data_path)"
   ]
  }
 ],
 "metadata": {
  "kernelspec": {
   "display_name": "base",
   "language": "python",
   "name": "python3"
  },
  "language_info": {
   "codemirror_mode": {
    "name": "ipython",
    "version": 3
   },
   "file_extension": ".py",
   "mimetype": "text/x-python",
   "name": "python",
   "nbconvert_exporter": "python",
   "pygments_lexer": "ipython3",
   "version": "3.12.7"
  }
 },
 "nbformat": 4,
 "nbformat_minor": 4
}
